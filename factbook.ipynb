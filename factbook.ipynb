{
 "cells": [
  {
   "cell_type": "markdown",
   "metadata": {},
   "source": [
    "## Reading data"
   ]
  },
  {
   "cell_type": "code",
   "execution_count": 3,
   "metadata": {},
   "outputs": [],
   "source": [
    "import sqlite3\n",
    "import pandas as pd\n",
    "conn = sqlite3.connect('factbook.db')"
   ]
  },
  {
   "cell_type": "code",
   "execution_count": 4,
   "metadata": {},
   "outputs": [
    {
     "data": {
      "text/html": [
       "<div>\n",
       "<style scoped>\n",
       "    .dataframe tbody tr th:only-of-type {\n",
       "        vertical-align: middle;\n",
       "    }\n",
       "\n",
       "    .dataframe tbody tr th {\n",
       "        vertical-align: top;\n",
       "    }\n",
       "\n",
       "    .dataframe thead th {\n",
       "        text-align: right;\n",
       "    }\n",
       "</style>\n",
       "<table border=\"1\" class=\"dataframe\">\n",
       "  <thead>\n",
       "    <tr style=\"text-align: right;\">\n",
       "      <th></th>\n",
       "      <th>type</th>\n",
       "      <th>name</th>\n",
       "      <th>tbl_name</th>\n",
       "      <th>rootpage</th>\n",
       "      <th>sql</th>\n",
       "    </tr>\n",
       "  </thead>\n",
       "  <tbody>\n",
       "    <tr>\n",
       "      <th>0</th>\n",
       "      <td>table</td>\n",
       "      <td>facts</td>\n",
       "      <td>facts</td>\n",
       "      <td>2</td>\n",
       "      <td>CREATE TABLE \"facts\" (\"id\" INTEGER PRIMARY KEY...</td>\n",
       "    </tr>\n",
       "    <tr>\n",
       "      <th>1</th>\n",
       "      <td>table</td>\n",
       "      <td>sqlite_sequence</td>\n",
       "      <td>sqlite_sequence</td>\n",
       "      <td>3</td>\n",
       "      <td>CREATE TABLE sqlite_sequence(name,seq)</td>\n",
       "    </tr>\n",
       "  </tbody>\n",
       "</table>\n",
       "</div>"
      ],
      "text/plain": [
       "    type             name         tbl_name  rootpage  \\\n",
       "0  table            facts            facts         2   \n",
       "1  table  sqlite_sequence  sqlite_sequence         3   \n",
       "\n",
       "                                                 sql  \n",
       "0  CREATE TABLE \"facts\" (\"id\" INTEGER PRIMARY KEY...  \n",
       "1             CREATE TABLE sqlite_sequence(name,seq)  "
      ]
     },
     "execution_count": 4,
     "metadata": {},
     "output_type": "execute_result"
    }
   ],
   "source": [
    "q = \"SELECT * FROM sqlite_master WHERE type='table';\"\n",
    "pd.read_sql_query(q, conn)"
   ]
  },
  {
   "cell_type": "code",
   "execution_count": 5,
   "metadata": {},
   "outputs": [
    {
     "data": {
      "text/html": [
       "<div>\n",
       "<style scoped>\n",
       "    .dataframe tbody tr th:only-of-type {\n",
       "        vertical-align: middle;\n",
       "    }\n",
       "\n",
       "    .dataframe tbody tr th {\n",
       "        vertical-align: top;\n",
       "    }\n",
       "\n",
       "    .dataframe thead th {\n",
       "        text-align: right;\n",
       "    }\n",
       "</style>\n",
       "<table border=\"1\" class=\"dataframe\">\n",
       "  <thead>\n",
       "    <tr style=\"text-align: right;\">\n",
       "      <th></th>\n",
       "      <th>id</th>\n",
       "      <th>code</th>\n",
       "      <th>name</th>\n",
       "      <th>area</th>\n",
       "      <th>area_land</th>\n",
       "      <th>area_water</th>\n",
       "      <th>population</th>\n",
       "      <th>population_growth</th>\n",
       "      <th>birth_rate</th>\n",
       "      <th>death_rate</th>\n",
       "      <th>migration_rate</th>\n",
       "      <th>created_at</th>\n",
       "      <th>updated_at</th>\n",
       "    </tr>\n",
       "  </thead>\n",
       "  <tbody>\n",
       "    <tr>\n",
       "      <th>0</th>\n",
       "      <td>1</td>\n",
       "      <td>af</td>\n",
       "      <td>Afghanistan</td>\n",
       "      <td>652230</td>\n",
       "      <td>652230</td>\n",
       "      <td>0</td>\n",
       "      <td>32564342</td>\n",
       "      <td>2.32</td>\n",
       "      <td>38.57</td>\n",
       "      <td>13.89</td>\n",
       "      <td>1.51</td>\n",
       "      <td>2015-11-01 13:19:49.461734</td>\n",
       "      <td>2015-11-01 13:19:49.461734</td>\n",
       "    </tr>\n",
       "    <tr>\n",
       "      <th>1</th>\n",
       "      <td>2</td>\n",
       "      <td>al</td>\n",
       "      <td>Albania</td>\n",
       "      <td>28748</td>\n",
       "      <td>27398</td>\n",
       "      <td>1350</td>\n",
       "      <td>3029278</td>\n",
       "      <td>0.30</td>\n",
       "      <td>12.92</td>\n",
       "      <td>6.58</td>\n",
       "      <td>3.30</td>\n",
       "      <td>2015-11-01 13:19:54.431082</td>\n",
       "      <td>2015-11-01 13:19:54.431082</td>\n",
       "    </tr>\n",
       "    <tr>\n",
       "      <th>2</th>\n",
       "      <td>3</td>\n",
       "      <td>ag</td>\n",
       "      <td>Algeria</td>\n",
       "      <td>2381741</td>\n",
       "      <td>2381741</td>\n",
       "      <td>0</td>\n",
       "      <td>39542166</td>\n",
       "      <td>1.84</td>\n",
       "      <td>23.67</td>\n",
       "      <td>4.31</td>\n",
       "      <td>0.92</td>\n",
       "      <td>2015-11-01 13:19:59.961286</td>\n",
       "      <td>2015-11-01 13:19:59.961286</td>\n",
       "    </tr>\n",
       "    <tr>\n",
       "      <th>3</th>\n",
       "      <td>4</td>\n",
       "      <td>an</td>\n",
       "      <td>Andorra</td>\n",
       "      <td>468</td>\n",
       "      <td>468</td>\n",
       "      <td>0</td>\n",
       "      <td>85580</td>\n",
       "      <td>0.12</td>\n",
       "      <td>8.13</td>\n",
       "      <td>6.96</td>\n",
       "      <td>0.00</td>\n",
       "      <td>2015-11-01 13:20:03.659945</td>\n",
       "      <td>2015-11-01 13:20:03.659945</td>\n",
       "    </tr>\n",
       "    <tr>\n",
       "      <th>4</th>\n",
       "      <td>5</td>\n",
       "      <td>ao</td>\n",
       "      <td>Angola</td>\n",
       "      <td>1246700</td>\n",
       "      <td>1246700</td>\n",
       "      <td>0</td>\n",
       "      <td>19625353</td>\n",
       "      <td>2.78</td>\n",
       "      <td>38.78</td>\n",
       "      <td>11.49</td>\n",
       "      <td>0.46</td>\n",
       "      <td>2015-11-01 13:20:08.625072</td>\n",
       "      <td>2015-11-01 13:20:08.625072</td>\n",
       "    </tr>\n",
       "  </tbody>\n",
       "</table>\n",
       "</div>"
      ],
      "text/plain": [
       "   id code         name     area  area_land  area_water  population  \\\n",
       "0   1   af  Afghanistan   652230     652230           0    32564342   \n",
       "1   2   al      Albania    28748      27398        1350     3029278   \n",
       "2   3   ag      Algeria  2381741    2381741           0    39542166   \n",
       "3   4   an      Andorra      468        468           0       85580   \n",
       "4   5   ao       Angola  1246700    1246700           0    19625353   \n",
       "\n",
       "   population_growth  birth_rate  death_rate  migration_rate  \\\n",
       "0               2.32       38.57       13.89            1.51   \n",
       "1               0.30       12.92        6.58            3.30   \n",
       "2               1.84       23.67        4.31            0.92   \n",
       "3               0.12        8.13        6.96            0.00   \n",
       "4               2.78       38.78       11.49            0.46   \n",
       "\n",
       "                   created_at                  updated_at  \n",
       "0  2015-11-01 13:19:49.461734  2015-11-01 13:19:49.461734  \n",
       "1  2015-11-01 13:19:54.431082  2015-11-01 13:19:54.431082  \n",
       "2  2015-11-01 13:19:59.961286  2015-11-01 13:19:59.961286  \n",
       "3  2015-11-01 13:20:03.659945  2015-11-01 13:20:03.659945  \n",
       "4  2015-11-01 13:20:08.625072  2015-11-01 13:20:08.625072  "
      ]
     },
     "execution_count": 5,
     "metadata": {},
     "output_type": "execute_result"
    }
   ],
   "source": [
    "q = \"SELECT * FROM facts LIMIT 5;\"\n",
    "pd.read_sql_query(q, conn)"
   ]
  },
  {
   "cell_type": "markdown",
   "metadata": {},
   "source": [
    "## Summary statistics"
   ]
  },
  {
   "cell_type": "code",
   "execution_count": 6,
   "metadata": {},
   "outputs": [
    {
     "data": {
      "text/html": [
       "<div>\n",
       "<style scoped>\n",
       "    .dataframe tbody tr th:only-of-type {\n",
       "        vertical-align: middle;\n",
       "    }\n",
       "\n",
       "    .dataframe tbody tr th {\n",
       "        vertical-align: top;\n",
       "    }\n",
       "\n",
       "    .dataframe thead th {\n",
       "        text-align: right;\n",
       "    }\n",
       "</style>\n",
       "<table border=\"1\" class=\"dataframe\">\n",
       "  <thead>\n",
       "    <tr style=\"text-align: right;\">\n",
       "      <th></th>\n",
       "      <th>min(population)</th>\n",
       "      <th>max(population)</th>\n",
       "      <th>min(population_growth)</th>\n",
       "      <th>max(population_growth)</th>\n",
       "    </tr>\n",
       "  </thead>\n",
       "  <tbody>\n",
       "    <tr>\n",
       "      <th>0</th>\n",
       "      <td>0</td>\n",
       "      <td>7256490011</td>\n",
       "      <td>0.0</td>\n",
       "      <td>4.02</td>\n",
       "    </tr>\n",
       "  </tbody>\n",
       "</table>\n",
       "</div>"
      ],
      "text/plain": [
       "   min(population)  max(population)  min(population_growth)  \\\n",
       "0                0       7256490011                     0.0   \n",
       "\n",
       "   max(population_growth)  \n",
       "0                    4.02  "
      ]
     },
     "execution_count": 6,
     "metadata": {},
     "output_type": "execute_result"
    }
   ],
   "source": [
    "q = '''SELECT min(population), max(population),\n",
    "    min(population_growth), max(population_growth)\n",
    "    FROM facts;'''\n",
    "pd.read_sql_query(q, conn)"
   ]
  },
  {
   "cell_type": "markdown",
   "metadata": {},
   "source": [
    "## Outliers"
   ]
  },
  {
   "cell_type": "code",
   "execution_count": 7,
   "metadata": {},
   "outputs": [
    {
     "data": {
      "text/html": [
       "<div>\n",
       "<style scoped>\n",
       "    .dataframe tbody tr th:only-of-type {\n",
       "        vertical-align: middle;\n",
       "    }\n",
       "\n",
       "    .dataframe tbody tr th {\n",
       "        vertical-align: top;\n",
       "    }\n",
       "\n",
       "    .dataframe thead th {\n",
       "        text-align: right;\n",
       "    }\n",
       "</style>\n",
       "<table border=\"1\" class=\"dataframe\">\n",
       "  <thead>\n",
       "    <tr style=\"text-align: right;\">\n",
       "      <th></th>\n",
       "      <th>id</th>\n",
       "      <th>code</th>\n",
       "      <th>name</th>\n",
       "      <th>area</th>\n",
       "      <th>area_land</th>\n",
       "      <th>area_water</th>\n",
       "      <th>population</th>\n",
       "      <th>population_growth</th>\n",
       "      <th>birth_rate</th>\n",
       "      <th>death_rate</th>\n",
       "      <th>migration_rate</th>\n",
       "      <th>created_at</th>\n",
       "      <th>updated_at</th>\n",
       "    </tr>\n",
       "  </thead>\n",
       "  <tbody>\n",
       "    <tr>\n",
       "      <th>0</th>\n",
       "      <td>250</td>\n",
       "      <td>ay</td>\n",
       "      <td>Antarctica</td>\n",
       "      <td>None</td>\n",
       "      <td>280000.0</td>\n",
       "      <td>None</td>\n",
       "      <td>0</td>\n",
       "      <td>NaN</td>\n",
       "      <td>NaN</td>\n",
       "      <td>NaN</td>\n",
       "      <td>None</td>\n",
       "      <td>2015-11-01 13:38:44.885746</td>\n",
       "      <td>2015-11-01 13:38:44.885746</td>\n",
       "    </tr>\n",
       "    <tr>\n",
       "      <th>1</th>\n",
       "      <td>261</td>\n",
       "      <td>xx</td>\n",
       "      <td>World</td>\n",
       "      <td>None</td>\n",
       "      <td>NaN</td>\n",
       "      <td>None</td>\n",
       "      <td>7256490011</td>\n",
       "      <td>1.08</td>\n",
       "      <td>18.6</td>\n",
       "      <td>7.8</td>\n",
       "      <td>None</td>\n",
       "      <td>2015-11-01 13:39:09.910721</td>\n",
       "      <td>2015-11-01 13:39:09.910721</td>\n",
       "    </tr>\n",
       "  </tbody>\n",
       "</table>\n",
       "</div>"
      ],
      "text/plain": [
       "    id code        name  area  area_land area_water  population  \\\n",
       "0  250   ay  Antarctica  None   280000.0       None           0   \n",
       "1  261   xx       World  None        NaN       None  7256490011   \n",
       "\n",
       "   population_growth  birth_rate  death_rate migration_rate  \\\n",
       "0                NaN         NaN         NaN           None   \n",
       "1               1.08        18.6         7.8           None   \n",
       "\n",
       "                   created_at                  updated_at  \n",
       "0  2015-11-01 13:38:44.885746  2015-11-01 13:38:44.885746  \n",
       "1  2015-11-01 13:39:09.910721  2015-11-01 13:39:09.910721  "
      ]
     },
     "execution_count": 7,
     "metadata": {},
     "output_type": "execute_result"
    }
   ],
   "source": [
    "q = '''SELECT *\n",
    "    FROM facts\n",
    "    WHERE population IN (\n",
    "        (SELECT min(population) FROM facts),\n",
    "        (SELECT max(population) FROM facts)\n",
    "    )'''\n",
    "pd.read_sql_query(q, conn)"
   ]
  },
  {
   "cell_type": "markdown",
   "metadata": {},
   "source": [
    "Apparently there is no error in the data. It just contains Antarctica where no one lives and the row with global World data."
   ]
  },
  {
   "cell_type": "markdown",
   "metadata": {},
   "source": [
    "## Visualizations of population (excluding outliers)"
   ]
  },
  {
   "cell_type": "code",
   "execution_count": 8,
   "metadata": {},
   "outputs": [
    {
     "data": {
      "text/html": [
       "<div>\n",
       "<style scoped>\n",
       "    .dataframe tbody tr th:only-of-type {\n",
       "        vertical-align: middle;\n",
       "    }\n",
       "\n",
       "    .dataframe tbody tr th {\n",
       "        vertical-align: top;\n",
       "    }\n",
       "\n",
       "    .dataframe thead th {\n",
       "        text-align: right;\n",
       "    }\n",
       "</style>\n",
       "<table border=\"1\" class=\"dataframe\">\n",
       "  <thead>\n",
       "    <tr style=\"text-align: right;\">\n",
       "      <th></th>\n",
       "      <th>population</th>\n",
       "      <th>population_growth</th>\n",
       "      <th>birth_rate</th>\n",
       "      <th>death_rate</th>\n",
       "    </tr>\n",
       "  </thead>\n",
       "  <tbody>\n",
       "    <tr>\n",
       "      <th>0</th>\n",
       "      <td>32564342</td>\n",
       "      <td>2.32</td>\n",
       "      <td>38.57</td>\n",
       "      <td>13.89</td>\n",
       "    </tr>\n",
       "    <tr>\n",
       "      <th>1</th>\n",
       "      <td>3029278</td>\n",
       "      <td>0.30</td>\n",
       "      <td>12.92</td>\n",
       "      <td>6.58</td>\n",
       "    </tr>\n",
       "    <tr>\n",
       "      <th>2</th>\n",
       "      <td>39542166</td>\n",
       "      <td>1.84</td>\n",
       "      <td>23.67</td>\n",
       "      <td>4.31</td>\n",
       "    </tr>\n",
       "    <tr>\n",
       "      <th>3</th>\n",
       "      <td>85580</td>\n",
       "      <td>0.12</td>\n",
       "      <td>8.13</td>\n",
       "      <td>6.96</td>\n",
       "    </tr>\n",
       "    <tr>\n",
       "      <th>4</th>\n",
       "      <td>19625353</td>\n",
       "      <td>2.78</td>\n",
       "      <td>38.78</td>\n",
       "      <td>11.49</td>\n",
       "    </tr>\n",
       "  </tbody>\n",
       "</table>\n",
       "</div>"
      ],
      "text/plain": [
       "   population  population_growth  birth_rate  death_rate\n",
       "0    32564342               2.32       38.57       13.89\n",
       "1     3029278               0.30       12.92        6.58\n",
       "2    39542166               1.84       23.67        4.31\n",
       "3       85580               0.12        8.13        6.96\n",
       "4    19625353               2.78       38.78       11.49"
      ]
     },
     "execution_count": 8,
     "metadata": {},
     "output_type": "execute_result"
    }
   ],
   "source": [
    "q = '''SELECT population, population_growth, birth_rate, death_rate\n",
    "    FROM facts\n",
    "    WHERE population NOT IN (\n",
    "        (SELECT min(population) FROM facts),\n",
    "        (SELECT max(population) FROM facts)\n",
    "    )'''\n",
    "df = pd.read_sql_query(q, conn)\n",
    "conn.close()\n",
    "df.head()"
   ]
  },
  {
   "cell_type": "code",
   "execution_count": 14,
   "metadata": {},
   "outputs": [],
   "source": [
    "import matplotlib.pyplot as plt\n",
    "import seaborn as sns\n",
    "%matplotlib inline"
   ]
  },
  {
   "cell_type": "code",
   "execution_count": 44,
   "metadata": {},
   "outputs": [
    {
     "data": {
      "image/png": "[encoded data removed]",
      "text/plain": [
       "<matplotlib.figure.Figure at 0x24704d390b8>"
      ]
     },
     "metadata": {},
     "output_type": "display_data"
    }
   ],
   "source": [
    "sns.set_style(\"white\")\n",
    "sns.set_context(\"notebook\")\n",
    "plt.figure(figsize=(10, 10))\n",
    "\n",
    "for i,v in enumerate(df.columns):\n",
    "    plt.subplot(2, 2, i+1)\n",
    "    df[v].hist()\n",
    "    #plt.grid(False)\n",
    "    plt.title(v)\n",
    "plt.show()"
   ]
  },
  {
   "cell_type": "code",
   "execution_count": 26,
   "metadata": {},
   "outputs": [
    {
     "data": {
      "image/png": "[encoded data removed]",
      "text/plain": [
       "<matplotlib.figure.Figure at 0x247055d2630>"
      ]
     },
     "metadata": {},
     "output_type": "display_data"
    }
   ],
   "source": [
    "# or simply\n",
    "df.hist()\n",
    "plt.show()"
   ]
  },
  {
   "cell_type": "code",
   "execution_count": 20,
   "metadata": {
    "scrolled": true
   },
   "outputs": [
    {
     "data": {
      "text/html": [
       "<div>\n",
       "<style scoped>\n",
       "    .dataframe tbody tr th:only-of-type {\n",
       "        vertical-align: middle;\n",
       "    }\n",
       "\n",
       "    .dataframe tbody tr th {\n",
       "        vertical-align: top;\n",
       "    }\n",
       "\n",
       "    .dataframe thead th {\n",
       "        text-align: right;\n",
       "    }\n",
       "</style>\n",
       "<table border=\"1\" class=\"dataframe\">\n",
       "  <thead>\n",
       "    <tr style=\"text-align: right;\">\n",
       "      <th></th>\n",
       "      <th>population</th>\n",
       "      <th>population_growth</th>\n",
       "      <th>birth_rate</th>\n",
       "      <th>death_rate</th>\n",
       "    </tr>\n",
       "  </thead>\n",
       "  <tbody>\n",
       "    <tr>\n",
       "      <th>count</th>\n",
       "      <td>2.400000e+02</td>\n",
       "      <td>235.000000</td>\n",
       "      <td>227.000000</td>\n",
       "      <td>227.000000</td>\n",
       "    </tr>\n",
       "    <tr>\n",
       "      <th>mean</th>\n",
       "      <td>3.237701e+07</td>\n",
       "      <td>1.201489</td>\n",
       "      <td>19.331762</td>\n",
       "      <td>7.821366</td>\n",
       "    </tr>\n",
       "    <tr>\n",
       "      <th>std</th>\n",
       "      <td>1.284577e+08</td>\n",
       "      <td>0.903359</td>\n",
       "      <td>9.486590</td>\n",
       "      <td>2.885081</td>\n",
       "    </tr>\n",
       "    <tr>\n",
       "      <th>min</th>\n",
       "      <td>4.800000e+01</td>\n",
       "      <td>0.000000</td>\n",
       "      <td>6.650000</td>\n",
       "      <td>1.530000</td>\n",
       "    </tr>\n",
       "    <tr>\n",
       "      <th>25%</th>\n",
       "      <td>3.160988e+05</td>\n",
       "      <td>0.425000</td>\n",
       "      <td>11.575000</td>\n",
       "      <td>5.905000</td>\n",
       "    </tr>\n",
       "    <tr>\n",
       "      <th>50%</th>\n",
       "      <td>5.219556e+06</td>\n",
       "      <td>1.040000</td>\n",
       "      <td>16.470000</td>\n",
       "      <td>7.520000</td>\n",
       "    </tr>\n",
       "    <tr>\n",
       "      <th>75%</th>\n",
       "      <td>1.835076e+07</td>\n",
       "      <td>1.880000</td>\n",
       "      <td>24.380000</td>\n",
       "      <td>9.440000</td>\n",
       "    </tr>\n",
       "    <tr>\n",
       "      <th>max</th>\n",
       "      <td>1.367485e+09</td>\n",
       "      <td>4.020000</td>\n",
       "      <td>45.450000</td>\n",
       "      <td>14.890000</td>\n",
       "    </tr>\n",
       "  </tbody>\n",
       "</table>\n",
       "</div>"
      ],
      "text/plain": [
       "         population  population_growth  birth_rate  death_rate\n",
       "count  2.400000e+02         235.000000  227.000000  227.000000\n",
       "mean   3.237701e+07           1.201489   19.331762    7.821366\n",
       "std    1.284577e+08           0.903359    9.486590    2.885081\n",
       "min    4.800000e+01           0.000000    6.650000    1.530000\n",
       "25%    3.160988e+05           0.425000   11.575000    5.905000\n",
       "50%    5.219556e+06           1.040000   16.470000    7.520000\n",
       "75%    1.835076e+07           1.880000   24.380000    9.440000\n",
       "max    1.367485e+09           4.020000   45.450000   14.890000"
      ]
     },
     "execution_count": 20,
     "metadata": {},
     "output_type": "execute_result"
    }
   ],
   "source": [
    "df.describe()"
   ]
  },
  {
   "cell_type": "code",
   "execution_count": null,
   "metadata": {},
   "outputs": [],
   "source": []
  }
 ],
 "metadata": {
  "kernelspec": {
   "display_name": "Python 3",
   "language": "python",
   "name": "python3"
  },
  "language_info": {
   "codemirror_mode": {
    "name": "ipython",
    "version": 3
   },
   "file_extension": ".py",
   "mimetype": "text/x-python",
   "name": "python",
   "nbconvert_exporter": "python",
   "pygments_lexer": "ipython3",
   "version": "3.6.3"
  }
 },
 "nbformat": 4,
 "nbformat_minor": 2
}
